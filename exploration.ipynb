{
 "cells": [
  {
   "cell_type": "code",
   "execution_count": 2,
   "metadata": {
    "collapsed": true
   },
   "outputs": [],
   "source": [
    "import pandas as pd\n",
    "import numpy as np\n",
    "\n",
    "from numpy import loadtxt\n",
    "from xgboost import XGBClassifier\n",
    "from sklearn.model_selection import train_test_split\n",
    "from sklearn.metrics import accuracy_score"
   ]
  },
  {
   "cell_type": "code",
   "execution_count": 27,
   "metadata": {},
   "outputs": [],
   "source": [
    "airport = pd.read_csv(\"C:/Users/s2876731.STAFF/Desktop/airports_preprocess.csv\", index_col=False)"
   ]
  },
  {
   "cell_type": "code",
   "execution_count": 30,
   "metadata": {
    "collapsed": false
   },
   "outputs": [
    {
     "data": {
      "text/plain": [
       "['id', 'name', 'latitude_deg', 'longitude_deg', 'iata_code']"
      ]
     },
     "execution_count": 30,
     "metadata": {},
     "output_type": "execute_result"
    }
   ],
   "source": [
    "list(airport)\n"
   ]
  },
  {
   "cell_type": "code",
   "execution_count": 7,
   "metadata": {},
   "outputs": [],
   "source": [
    "from math import cos, asin, sqrt\n",
    "\n",
    "\n",
    "def distance(lat1, lon1, lat2, lon2):\n",
    "    p = 0.017453292519943295     #Pi/180\n",
    "    a = 0.5 - cos((lat2 - lat1) * p)/2 + cos(lat1 * p) * cos(lat2 * p) * (1 - cos((lon2 - lon1) * p)) / 2\n",
    "    return 12742 * asin(sqrt(a))"
   ]
  },
  {
   "cell_type": "code",
   "execution_count": 24,
   "metadata": {},
   "outputs": [],
   "source": [
    "#sentinels = {'CO2P1': ['.'], 'CO2E1': ['.'], 'CO2P2': ['.'], 'CO2P1': ['.'], \n",
    "#             'CO2P3': ['.'], 'CO2E3': ['.']}\n",
    "\n",
    "# df1 = pd.read_csv(\"C:/Users/s2876731.STAFF/Desktop/NewCO2/airport_airport_test.csv\", index_col=False, nrows=100, header=None)\n",
    "df2 = pd.read_csv(\"C:/Users/s2876731.STAFF/Desktop/NewCO2/missing.csv\", index_col=False, nrows=10)\n",
    "\n",
    "#print(df)"
   ]
  },
  {
   "cell_type": "code",
   "execution_count": 65,
   "metadata": {},
   "outputs": [
    {
     "name": "stdout",
     "output_type": "stream",
     "text": [
      "AAE\nAAE.\nAAN\nAAN.\nSHJ\nABA\nABA.\nABD\nABD.\nABD\nABD.\nACC\nCDG\nABJ\nATL\n"
     ]
    }
   ],
   "source": [
    "list(df2)\n",
    "\n",
    "# split data into X and y\n",
    "# X = df1.loc[:,0:1]\n",
    "# Y = df1.loc[:,2:]\n",
    "\n",
    "#print(X, Y)\n",
    "\n",
    "origin = df2[['origin_airport']]\n",
    "destination = df2[['destination_airport']]\n",
    "\n",
    "iata_code = airport[['iata_code']]\n",
    "#print(iata_code)\n",
    "\n",
    "#latitude_deg', 'longitude_deg', 'iata_code'\n",
    "for each_origin in origin.iterrows():\n",
    "    for each in each_origin[1]:\n",
    "        print(each)\n",
    "        if str(each) in str(iata_code):\n",
    "            print(each + \".\")\n",
    "            # origin_latitude = airport[['latitude_deg']]\n",
    "            # origin_longitude = airport[['longitude_deg']]\n",
    "            # print(origin_latitude)\n",
    "\n",
    "#bigdata = data1.append(data2, ignore_index=True)\n",
    "\n",
    "missing_dictionary = {}"
   ]
  },
  {
   "cell_type": "code",
   "execution_count": null,
   "metadata": {},
   "outputs": [],
   "source": [
    "model = XGBClassifier()"
   ]
  }
 ],
 "metadata": {
  "kernelspec": {
   "display_name": "Python 2",
   "language": "python",
   "name": "python2"
  },
  "language_info": {
   "codemirror_mode": {
    "name": "ipython",
    "version": 2
   },
   "file_extension": ".py",
   "mimetype": "text/x-python",
   "name": "python",
   "nbconvert_exporter": "python",
   "pygments_lexer": "ipython2",
   "version": "2.7.6"
  }
 },
 "nbformat": 4,
 "nbformat_minor": 0
}
